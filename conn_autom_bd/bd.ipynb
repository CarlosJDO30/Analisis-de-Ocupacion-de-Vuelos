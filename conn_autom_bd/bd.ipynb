{
 "cells": [
  {
   "cell_type": "markdown",
   "metadata": {},
   "source": [
    "### <br> Importacion de librerias <br/>"
   ]
  },
  {
   "cell_type": "code",
   "execution_count": 1,
   "metadata": {},
   "outputs": [],
   "source": [
    "# Importa la librería pandas para trabajar con DataFrames.\n",
    "import pandas as pd  \n",
    "\n",
    "# Importa 'create_engine' de SQLAlchemy para crear conexiones a bases de datos.\n",
    "from sqlalchemy import create_engine  \n",
    "\n",
    "# Importa pyodbc, una librería para conectarse a bases de datos usando ODBC \n",
    "# (usado por SQLAlchemy).\n",
    "import pyodbc  "
   ]
  },
  {
   "cell_type": "code",
   "execution_count": null,
   "metadata": {},
   "outputs": [],
   "source": []
  }
 ],
 "metadata": {
  "kernelspec": {
   "display_name": "Python 3",
   "language": "python",
   "name": "python3"
  },
  "language_info": {
   "codemirror_mode": {
    "name": "ipython",
    "version": 3
   },
   "file_extension": ".py",
   "mimetype": "text/x-python",
   "name": "python",
   "nbconvert_exporter": "python",
   "pygments_lexer": "ipython3",
   "version": "3.12.6"
  }
 },
 "nbformat": 4,
 "nbformat_minor": 2
}
