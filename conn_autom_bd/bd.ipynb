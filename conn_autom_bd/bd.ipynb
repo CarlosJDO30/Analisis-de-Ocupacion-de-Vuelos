{
 "cells": [
  {
   "cell_type": "markdown",
   "metadata": {},
   "source": [
    "### <br> Importacion de librerias <br/>"
   ]
  },
  {
   "cell_type": "code",
   "execution_count": 1,
   "metadata": {},
   "outputs": [],
   "source": [
    "import pyodbc"
   ]
  },
  {
   "cell_type": "code",
   "execution_count": 2,
   "metadata": {},
   "outputs": [],
   "source": [
    "# Configura la cadena de conexión para tu base de datos\n",
    "conn_str = (\n",
    "    r'DRIVER={SQL Server};'\n",
    "    r'SERVER=DESKTOP-5U13SVB\\SQLEXPRESS;'  # Reemplaza con el nombre de tu servidor\n",
    "    r'DATABASE=AviacionComercial;'\n",
    "    r'Trusted_Connection=yes;'\n",
    ")\n",
    "\n",
    "# Conecta a la base de datos\n",
    "connection = pyodbc.connect(conn_str)\n",
    "\n",
    "# Ahora puedes utilizar la conexión para ejecutar consultas\n"
   ]
  },
  {
   "cell_type": "code",
   "execution_count": 4,
   "metadata": {},
   "outputs": [
    {
     "name": "stdout",
     "output_type": "stream",
     "text": [
      "Tabla creada exitosamente.\n",
      "Tabla creada exitosamente.\n",
      "Tabla creada exitosamente.\n",
      "Tabla creada exitosamente.\n",
      "Tabla creada exitosamente.\n",
      "Tabla creada exitosamente.\n",
      "Tabla creada exitosamente.\n",
      "Tabla creada exitosamente.\n"
     ]
    }
   ],
   "source": [
    "def create_tables(connection):\n",
    "    cursor = connection.cursor()\n",
    "\n",
    "    # Consulta SQL para crear las tablas\n",
    "    create_table_queries = [\n",
    "        '''\n",
    "        CREATE TABLE aircrafts_data (\n",
    "            aircraft_code VARCHAR(10) PRIMARY KEY NOT NULL,\n",
    "            range INT NOT NULL,\n",
    "            model_en VARCHAR(30) NOT NULL\n",
    "        );\n",
    "        ''',\n",
    "        '''\n",
    "        CREATE TABLE airports_data (\n",
    "            airport_code VARCHAR(10) PRIMARY KEY NOT NULL,\n",
    "            airport_name VARCHAR(100) NOT NULL,\n",
    "            city VARCHAR(30) NOT NULL,\n",
    "            timezone VARCHAR(30) NOT NULL,\n",
    "            longitude VARCHAR(100) NOT NULL,\n",
    "            latitude VARCHAR(100) NOT NULL\n",
    "        );\n",
    "        ''',\n",
    "        '''\n",
    "        CREATE TABLE bookings (\n",
    "            book_ref VARCHAR(15) PRIMARY KEY NOT NULL,\n",
    "            book_date DATETIME,\n",
    "            total_amount DECIMAL(15,2)\n",
    "        );\n",
    "        ''',\n",
    "        '''\n",
    "        CREATE TABLE flights (\n",
    "            flight_id INT PRIMARY KEY NOT NULL,\n",
    "            flight_no VARCHAR(10),\n",
    "            scheduled_departure DATETIME,\n",
    "            scheduled_arrival DATETIME,\n",
    "            departure_airport VARCHAR(10),\n",
    "            arrival_airport VARCHAR(10),\n",
    "            status VARCHAR(30),\n",
    "            aircraft_code VARCHAR(10),\n",
    "            actual_departure DATETIME,\n",
    "            actual_arrival DATETIME,\n",
    "            FOREIGN KEY (departure_airport) REFERENCES airports_data(airport_code),\n",
    "            FOREIGN KEY (arrival_airport) REFERENCES airports_data(airport_code),\n",
    "            FOREIGN KEY (aircraft_code) REFERENCES aircrafts_data(aircraft_code)\n",
    "        );\n",
    "        ''',\n",
    "        '''\n",
    "        CREATE TABLE seats (\n",
    "            seat_id VARCHAR(100) PRIMARY KEY NOT NULL,\n",
    "            aircraft_code VARCHAR(10),\n",
    "            seat_no VARCHAR(10),\n",
    "            fare_conditions VARCHAR(30),\n",
    "            FOREIGN KEY (aircraft_code) REFERENCES aircrafts_data(aircraft_code)\n",
    "        );\n",
    "        ''',\n",
    "        '''\n",
    "        CREATE TABLE tickets (\n",
    "            ticket_no VARCHAR(100) PRIMARY KEY NOT NULL,\n",
    "            passenger_id VARCHAR(20),\n",
    "            book_ref VARCHAR(15),\n",
    "            FOREIGN KEY (book_ref) REFERENCES bookings(book_ref)\n",
    "        );\n",
    "        ''',\n",
    "        '''\n",
    "        CREATE TABLE boarding_passes (\n",
    "            bp_id VARCHAR(100) PRIMARY KEY NOT NULL,\n",
    "            ticket_no VARCHAR(100),\n",
    "            flight_id INT,\n",
    "            boarding_no INT,\n",
    "            seat_no VARCHAR(10),\n",
    "            FOREIGN KEY (ticket_no) REFERENCES tickets(ticket_no)\n",
    "        );\n",
    "        ''',\n",
    "        '''\n",
    "        CREATE TABLE ticket_flights (\n",
    "            ticket_flights_id VARCHAR(100) PRIMARY KEY NOT NULL,\n",
    "            ticket_no VARCHAR(100),\n",
    "            flight_id INT,\n",
    "            fare_conditions VARCHAR(30),\n",
    "            amount DECIMAL(15,2),\n",
    "            FOREIGN KEY (ticket_no) REFERENCES tickets(ticket_no),\n",
    "            FOREIGN KEY (flight_id) REFERENCES flights(flight_id)\n",
    "        );\n",
    "        '''\n",
    "    ]\n",
    "\n",
    "    # Ejecutar cada consulta para crear las tablas\n",
    "    for query in create_table_queries:\n",
    "        try:\n",
    "            cursor.execute(query)\n",
    "            connection.commit()\n",
    "            print(\"Tabla creada exitosamente.\")\n",
    "        except Exception as e:\n",
    "            print(f'Error al crear tabla: {e}')\n",
    "            connection.rollback()\n",
    "\n",
    "    cursor.close()\n",
    "\n",
    "# Configura la cadena de conexión para tu base de datos\n",
    "conn_str = (\n",
    "    r'DRIVER={SQL Server};'\n",
    "    r'SERVER=DESKTOP-5U13SVB\\SQLEXPRESS;'  \n",
    "    r'DATABASE=AviacionComercial;'\n",
    "    r'Trusted_Connection=yes;'\n",
    ")\n",
    "\n",
    "# Conecta a la base de datos y crea las tablas\n",
    "connection = pyodbc.connect(conn_str)\n",
    "create_tables(connection)\n",
    "connection.close()\n",
    "\n"
   ]
  },
  {
   "cell_type": "code",
   "execution_count": 5,
   "metadata": {},
   "outputs": [],
   "source": [
    "import pandas as pd\n",
    "import os\n",
    "import logging"
   ]
  },
  {
   "cell_type": "code",
   "execution_count": 6,
   "metadata": {},
   "outputs": [
    {
     "name": "stderr",
     "output_type": "stream",
     "text": [
      "<>:39: SyntaxWarning: invalid escape sequence '\\S'\n",
      "<>:39: SyntaxWarning: invalid escape sequence '\\S'\n",
      "C:\\Users\\Usuario\\AppData\\Local\\Temp\\ipykernel_19684\\673705649.py:39: SyntaxWarning: invalid escape sequence '\\S'\n",
      "  server = 'DESKTOP-5U13SVB\\SQLEXPRESS;'\n"
     ]
    }
   ],
   "source": [
    "# Configuración del archivo de log\n",
    "log_file = r\"C:\\users\\usuario\\Desktop\\FFFF\\proyecto_final_henry\\conn_autom_bd\\ingesta.txt\"\n",
    "\n",
    "def log_update(message):\n",
    "    with open(log_file, 'a') as f:\n",
    "        f.write(message + '\\n')\n",
    "\n",
    "def load_data_to_sql(file_path, table_name, connection):\n",
    "    if not os.path.isfile(file_path):\n",
    "        log_update(f'Error: El archivo {file_path} no existe.')\n",
    "        return 0\n",
    "    \n",
    "    try:\n",
    "        # Lee el archivo CSV\n",
    "        df = pd.read_csv(file_path)\n",
    "        \n",
    "        # Conexión a la base de datos\n",
    "        cursor = connection.cursor()\n",
    "        \n",
    "        # Inserta los datos en la tabla\n",
    "        for _, row in df.iterrows():\n",
    "            columns = ', '.join(df.columns)\n",
    "            placeholders = ', '.join('?' * len(row))\n",
    "            insert_sql = f\"INSERT INTO {table_name} ({columns}) VALUES ({placeholders})\"\n",
    "            cursor.execute(insert_sql, tuple(row))\n",
    "        \n",
    "        # Confirma los cambios\n",
    "        connection.commit()\n",
    "        new_records_count = len(df)\n",
    "        log_update(f'Cantidad de registros nuevos añadidos a {table_name}: {new_records_count}.')\n",
    "    \n",
    "    except Exception as e:\n",
    "        log_update(f'Error al insertar datos en {table_name}: {str(e)}')\n",
    "    \n",
    "    finally:\n",
    "        cursor.close()\n",
    "\n",
    "def main():\n",
    "    server = 'DESKTOP-5U13SVB\\SQLEXPRESS;'  \n",
    "    data_folder = r'C:\\users\\usuario\\Desktop\\FFFF\\proyecto_final_henry\\data'\n",
    "    files_and_tables = {\n",
    "        'aircrafts_data.csv': 'aircrafts_data',\n",
    "        'airports_data.csv': 'airports_data',\n",
    "        'bookings.csv': 'bookings',\n",
    "        'flights.csv': 'flights',\n",
    "        'seats.csv': 'seats',\n",
    "        'tickets.csv': 'tickets',\n",
    "        'boarding_passes.csv': 'boarding_passes',\n",
    "        'ticket_flights.csv': 'ticket_flights'\n",
    "    }\n",
    "\n",
    "    conn_str = f'DRIVER={{SQL Server}};SERVER={server};DATABASE=AviacionComercial;Trusted_Connection=yes;'\n",
    "    connection = pyodbc.connect(conn_str)\n",
    "    \n",
    "    try:\n",
    "        for file_name, table_name in files_and_tables.items():\n",
    "            file_path = os.path.join(data_folder, file_name)\n",
    "            load_data_to_sql(file_path, table_name, connection)\n",
    "    \n",
    "    finally:\n",
    "        connection.close()\n",
    "\n",
    "if __name__ == \"__main__\":\n",
    "    main()\n",
    "\n"
   ]
  },
  {
   "cell_type": "markdown",
   "metadata": {},
   "source": [
    "<br>Automatizacion<br/>"
   ]
  },
  {
   "cell_type": "markdown",
   "metadata": {},
   "source": [
    "### Opcion 1"
   ]
  },
  {
   "cell_type": "code",
   "execution_count": 9,
   "metadata": {},
   "outputs": [
    {
     "name": "stdout",
     "output_type": "stream",
     "text": [
      "Defaulting to user installation because normal site-packages is not writeable\n",
      "Collecting schedule\n",
      "  Downloading schedule-1.2.2-py3-none-any.whl.metadata (3.8 kB)\n",
      "Downloading schedule-1.2.2-py3-none-any.whl (12 kB)\n",
      "Installing collected packages: schedule\n",
      "Successfully installed schedule-1.2.2\n"
     ]
    }
   ],
   "source": [
    "!pip install schedule\n",
    "import schedule"
   ]
  },
  {
   "cell_type": "code",
   "execution_count": 11,
   "metadata": {},
   "outputs": [],
   "source": [
    "import time "
   ]
  },
  {
   "cell_type": "code",
   "execution_count": 12,
   "metadata": {},
   "outputs": [],
   "source": [
    "def job():\n",
    "    print(\"Iniciando el proceso de carga de datos...\")\n",
    "    main()\n",
    "\n",
    "# Programa el proceso para que se ejecute cada día a las 12:00 PM\n",
    "schedule.every().day.at(\"12:00\").do(job)\n",
    "\n",
    "while True:\n",
    "    schedule.run_pending()\n",
    "    time.sleep(60)  # Revisa cada minuto si es el momento de ejecutar el proceso\n"
   ]
  },
  {
   "cell_type": "markdown",
   "metadata": {},
   "source": [
    "### Opcion 2"
   ]
  },
  {
   "cell_type": "code",
   "execution_count": null,
   "metadata": {},
   "outputs": [],
   "source": [
    "import time\n",
    "\n",
    "def automate_data_loading(interval_minutes=60):\n",
    "    while True:\n",
    "        print(\"Iniciando el proceso de carga de datos...\")\n",
    "        main()  # Ejecuta el proceso principal de carga de datos\n",
    "        print(f\"Proceso completado. Esperando {interval_minutes} minutos para la siguiente ejecución...\")\n",
    "        time.sleep(interval_minutes * 60)  # Pausa antes de la siguiente ejecución\n",
    "\n",
    "# Puedes ajustar el intervalo según sea necesario (por ejemplo, cada 60 minutos)\n",
    "automate_data_loading(interval_minutes=60)\n"
   ]
  }
 ],
 "metadata": {
  "kernelspec": {
   "display_name": "Python 3",
   "language": "python",
   "name": "python3"
  },
  "language_info": {
   "codemirror_mode": {
    "name": "ipython",
    "version": 3
   },
   "file_extension": ".py",
   "mimetype": "text/x-python",
   "name": "python",
   "nbconvert_exporter": "python",
   "pygments_lexer": "ipython3",
   "version": "3.12.6"
  }
 },
 "nbformat": 4,
 "nbformat_minor": 2
}
