{
 "cells": [
  {
   "cell_type": "code",
   "execution_count": 24,
   "metadata": {},
   "outputs": [],
   "source": [
    "\n",
    "import pandas as pd \n",
    "import sqlite3\n"
   ]
  },
  {
   "cell_type": "code",
   "execution_count": 6,
   "metadata": {},
   "outputs": [],
   "source": [
    "base_de_datos = \"travel.sqlite\""
   ]
  },
  {
   "cell_type": "markdown",
   "metadata": {},
   "source": [
    "### TABLA 1"
   ]
  },
  {
   "cell_type": "markdown",
   "metadata": {},
   "source": [
    "## aircrafts_data (datos_de_aeronaves)"
   ]
  },
  {
   "cell_type": "code",
   "execution_count": 3,
   "metadata": {},
   "outputs": [
    {
     "name": "stdout",
     "output_type": "stream",
     "text": [
      "  aircraft_code                                              model  range\n",
      "0           773    {\"en\": \"Boeing 777-300\", \"ru\": \"Боинг 777-300\"}  11100\n",
      "1           763    {\"en\": \"Boeing 767-300\", \"ru\": \"Боинг 767-300\"}   7900\n",
      "2           SU9  {\"en\": \"Sukhoi Superjet-100\", \"ru\": \"Сухой Суп...   3000\n",
      "3           320  {\"en\": \"Airbus A320-200\", \"ru\": \"Аэробус A320-...   5700\n",
      "4           321  {\"en\": \"Airbus A321-200\", \"ru\": \"Аэробус A321-...   5600\n",
      "5           319  {\"en\": \"Airbus A319-100\", \"ru\": \"Аэробус A319-...   6700\n",
      "6           733    {\"en\": \"Boeing 737-300\", \"ru\": \"Боинг 737-300\"}   4200\n",
      "7           CN1  {\"en\": \"Cessna 208 Caravan\", \"ru\": \"Сессна 208...   1200\n",
      "8           CR2  {\"en\": \"Bombardier CRJ-200\", \"ru\": \"Бомбардье ...   2700\n"
     ]
    }
   ],
   "source": [
    "#Conexion a base de datos\n",
    "conn = sqlite3.connect(base_de_datos)\n",
    "\n",
    "# Consulta para obtener solo la tabla 'aircrafts_data'\n",
    "datos_de_aeronaves = pd.read_sql(\"\"\"\n",
    "                            SELECT *\n",
    "                            FROM aircrafts_data;\n",
    "                            \"\"\", conn)\n",
    "\n",
    "# Mostrar el contenido de la tabla 'aircrafts_data'\n",
    "print(datos_de_aeronaves)"
   ]
  },
  {
   "cell_type": "code",
   "execution_count": 54,
   "metadata": {},
   "outputs": [
    {
     "name": "stdout",
     "output_type": "stream",
     "text": [
      "   index aircraft_code  range             model_en\n",
      "0      0           773  11100       Boeing 777-300\n",
      "1      1           763   7900       Boeing 767-300\n",
      "2      2           SU9   3000  Sukhoi Superjet-100\n",
      "3      3           320   5700      Airbus A320-200\n",
      "4      4           321   5600      Airbus A321-200\n",
      "5      5           319   6700      Airbus A319-100\n",
      "6      6           733   4200       Boeing 737-300\n",
      "7      7           CN1   1200   Cessna 208 Caravan\n",
      "8      8           CR2   2700   Bombardier CRJ-200\n"
     ]
    }
   ],
   "source": [
    "import pandas as pd\n",
    "\n",
    "# Datos corregidos de la tabla\n",
    "data = {\n",
    "    'index': [0, 1, 2, 3, 4, 5, 6, 7, 8],\n",
    "    'aircraft_code': ['773', '763', 'SU9', '320', '321', '319', '733', 'CN1', 'CR2'],\n",
    "    'model': [\n",
    "        {\"en\": \"Boeing 777-300\"},\n",
    "        {\"en\": \"Boeing 767-300\"},\n",
    "        {\"en\": \"Sukhoi Superjet-100\"},\n",
    "        {\"en\": \"Airbus A320-200\"},\n",
    "        {\"en\": \"Airbus A321-200\"},\n",
    "        {\"en\": \"Airbus A319-100\"},\n",
    "        {\"en\": \"Boeing 737-300\"},\n",
    "        {\"en\": \"Cessna 208 Caravan\"},\n",
    "        {\"en\": \"Bombardier CRJ-200\"}\n",
    "    ],\n",
    "    'range': [11100, 7900, 3000, 5700, 5600, 6700, 4200, 1200, 2700]\n",
    "}\n",
    "\n",
    "# Convertir a DataFrame\n",
    "df = pd.DataFrame(data)\n",
    "\n",
    "# Expandir la columna 'model' en una nueva columna 'model_en'\n",
    "df['model_en'] = df['model'].apply(lambda x: x['en'])\n",
    "\n",
    "# Eliminar la columna original 'model'\n",
    "df.drop(columns='model', inplace=True)\n",
    "\n",
    "# Guardar el DataFrame en un archivo CSV\n",
    "df.to_csv('aircraft_data.csv', index=False)\n",
    "\n",
    "# Mostrar el DataFrame final\n",
    "print(df)\n",
    "\n",
    "\n",
    "\n"
   ]
  },
  {
   "cell_type": "markdown",
   "metadata": {},
   "source": [
    "### TABLA 2"
   ]
  },
  {
   "cell_type": "markdown",
   "metadata": {},
   "source": [
    "### airports_data (datos_de_aeropuertos)"
   ]
  },
  {
   "cell_type": "code",
   "execution_count": 59,
   "metadata": {},
   "outputs": [
    {
     "name": "stdout",
     "output_type": "stream",
     "text": [
      "\n",
      "Nuevo DataFrame procesado:\n",
      "    airport_code                                       airport_name  \\\n",
      "0            YKS          {\"en\": \"Yakutsk Airport\", \"ru\": \"Якутск\"}   \n",
      "1            MJZ            {\"en\": \"Mirny Airport\", \"ru\": \"Мирный\"}   \n",
      "2            KHV  {\"en\": \"Khabarovsk-Novy Airport\", \"ru\": \"Хабар...   \n",
      "3            PKC        {\"en\": \"Yelizovo Airport\", \"ru\": \"Елизово\"}   \n",
      "4            UUS  {\"en\": \"Yuzhno-Sakhalinsk Airport\", \"ru\": \"Хом...   \n",
      "..           ...                                                ...   \n",
      "99           MMK       {\"en\": \"Murmansk Airport\", \"ru\": \"Мурманск\"}   \n",
      "100          ABA           {\"en\": \"Abakan Airport\", \"ru\": \"Абакан\"}   \n",
      "101          BAX         {\"en\": \"Barnaul Airport\", \"ru\": \"Барнаул\"}   \n",
      "102          AAQ  {\"en\": \"Anapa Vityazevo Airport\", \"ru\": \"Витяз...   \n",
      "103          CNN         {\"en\": \"Chulman Airport\", \"ru\": \"Чульман\"}   \n",
      "\n",
      "                                                  city          timezone  \\\n",
      "0                    {\"en\": \"Yakutsk\", \"ru\": \"Якутск\"}      Asia/Yakutsk   \n",
      "1                     {\"en\": \"Mirnyj\", \"ru\": \"Мирный\"}      Asia/Yakutsk   \n",
      "2              {\"en\": \"Khabarovsk\", \"ru\": \"Хабаровск\"}  Asia/Vladivostok   \n",
      "3    {\"en\": \"Petropavlovsk\", \"ru\": \"Петропавловск-К...    Asia/Kamchatka   \n",
      "4    {\"en\": \"Yuzhno-Sakhalinsk\", \"ru\": \"Южно-Сахали...     Asia/Sakhalin   \n",
      "..                                                 ...               ...   \n",
      "99                {\"en\": \"Murmansk\", \"ru\": \"Мурманск\"}     Europe/Moscow   \n",
      "100                   {\"en\": \"Abakan\", \"ru\": \"Абакан\"}  Asia/Krasnoyarsk   \n",
      "101                 {\"en\": \"Barnaul\", \"ru\": \"Барнаул\"}  Asia/Krasnoyarsk   \n",
      "102                     {\"en\": \"Anapa\", \"ru\": \"Анапа\"}     Europe/Moscow   \n",
      "103              {\"en\": \"Neryungri\", \"ru\": \"Нерюнгри\"}      Asia/Yakutsk   \n",
      "\n",
      "                longitude              latitude  \n",
      "0        (129.77099609375  62.0932998657226562)  \n",
      "1     (114.03900146484375   62.534698486328125)  \n",
      "2        (135.18800354004  48.5279998779300001)  \n",
      "3    (158.453994750976562  53.1679000854492188)  \n",
      "4    (142.718002319335938  46.8886985778808594)  \n",
      "..                    ...                   ...  \n",
      "99   (32.7508010864257812  68.7817001342773438)  \n",
      "100  (91.3850021362304688  53.7400016784667969)  \n",
      "101  (83.5384979248046875   53.363800048828125)  \n",
      "102  (37.3473014831539984   45.002101898192997)  \n",
      "103  (124.914001464839998  56.9138984680179973)  \n",
      "\n",
      "[104 rows x 6 columns]\n"
     ]
    }
   ],
   "source": [
    "# Conexión a la base de datos (ajustar la ruta de 'base_de_datos')\n",
    "conn = sqlite3.connect(base_de_datos)\n",
    "\n",
    "# Consulta para obtener la tabla 'airports_data'\n",
    "datos_de_aeropuertos = pd.read_sql(\"\"\"\n",
    "                            SELECT *\n",
    "                            FROM airports_data;\n",
    "                            \"\"\", conn)\n",
    "\n",
    "# Cerrar la conexión a la base de datos\n",
    "conn.close()\n",
    "\n",
    "# Función para extraer el valor de la clave 'en' de un diccionario\n",
    "def extraer_en(valor):\n",
    "    if isinstance(valor, dict):\n",
    "        return valor.get('en', None)\n",
    "    return valor\n",
    "\n",
    "# Función para separar las coordenadas (latitud y longitud)\n",
    "def separar_coordenadas(coordenadas):\n",
    "    if isinstance(coordenadas, str):\n",
    "        coords = coordenadas.split(',')\n",
    "        if len(coords) == 2:\n",
    "            return pd.Series({'longitude': coords[0], 'latitude': coords[1]})\n",
    "    return pd.Series({'longitude': None, 'latitude': None})\n",
    "\n",
    "# Aplicar la extracción de 'en' en las columnas que contienen diccionarios\n",
    "datos_de_aeropuertos['airport_name'] = datos_de_aeropuertos['airport_name'].apply(extraer_en)\n",
    "datos_de_aeropuertos['city'] = datos_de_aeropuertos['city'].apply(extraer_en)\n",
    "\n",
    "# Aplicar la separación de coordenadas\n",
    "coordenadas_separadas = datos_de_aeropuertos['coordinates'].apply(separar_coordenadas)\n",
    "\n",
    "# Añadir las nuevas columnas al DataFrame original\n",
    "datos_de_aeropuertos = pd.concat([datos_de_aeropuertos, coordenadas_separadas], axis=1)\n",
    "\n",
    "# Eliminar la columna original de coordenadas si ya no es necesaria\n",
    "datos_de_aeropuertos.drop(columns=['coordinates'], inplace=True)\n",
    "\n",
    "# Mostrar el DataFrame final\n",
    "print(\"\\nNuevo DataFrame procesado:\")\n",
    "print(datos_de_aeropuertos)\n",
    "\n",
    "# Opcional: Guardar el resultado en un nuevo archivo CSV\n",
    "datos_de_aeropuertos.to_csv('airports_data_proces.csv', index=False)\n",
    "\n",
    "\n"
   ]
  },
  {
   "cell_type": "code",
   "execution_count": 73,
   "metadata": {},
   "outputs": [
    {
     "name": "stdout",
     "output_type": "stream",
     "text": [
      "Datos normalizados y guardados en 'airports_data_normalizado.csv'\n"
     ]
    }
   ],
   "source": [
    "# Cargar el archivo CSV\n",
    "datos_de_aeropuertos = pd.read_csv('airports_data_proces.csv')\n",
    "\n",
    "# Función para extraer el valor de la clave 'en' de un diccionario\n",
    "def extraer_en(valor):\n",
    "    if isinstance(valor, str) and valor.startswith(\"{\"):\n",
    "        try:\n",
    "            # Convertir la cadena de texto en un diccionario y obtener el valor 'en'\n",
    "            valor_dict = eval(valor)\n",
    "            return valor_dict.get('en', None)\n",
    "        except:\n",
    "            return valor\n",
    "    return valor\n",
    "\n",
    "\n",
    "\n",
    "# Aplicar la extracción de 'en' en las columnas que contienen diccionarios\n",
    "datos_de_aeropuertos['airport_name'] = datos_de_aeropuertos['airport_name'].apply(extraer_en)\n",
    "datos_de_aeropuertos['city'] = datos_de_aeropuertos['city'].apply(extraer_en)\n",
    "\n",
    "\n",
    "\n",
    "# Guardar el DataFrame resultante en un nuevo archivo CSV\n",
    "datos_de_aeropuertos.to_csv('airports_data_normalizado.csv', index=False)\n",
    "\n",
    "print(\"Datos normalizados y guardados en 'airports_data_normalizado.csv'\")\n"
   ]
  },
  {
   "cell_type": "markdown",
   "metadata": {},
   "source": [
    "### TABLA 3"
   ]
  },
  {
   "cell_type": "markdown",
   "metadata": {},
   "source": [
    "### boarding_passes (tarjetas_de_embarque)"
   ]
  },
  {
   "cell_type": "code",
   "execution_count": 70,
   "metadata": {},
   "outputs": [
    {
     "name": "stdout",
     "output_type": "stream",
     "text": [
      "Contenido de la tabla 'boarding_passes':\n",
      "            ticket_no  flight_id  boarding_no seat_no\n",
      "0       0005435212351      30625            1      2D\n",
      "1       0005435212386      30625            2      3G\n",
      "2       0005435212381      30625            3      4H\n",
      "3       0005432211370      30625            4      5D\n",
      "4       0005435212357      30625            5     11A\n",
      "...               ...        ...          ...     ...\n",
      "579681  0005434302871      19945           85     20F\n",
      "579682  0005432892791      19945           86     21C\n",
      "579683  0005434302869      19945           87     20E\n",
      "579684  0005432802476      19945           88     21F\n",
      "579685  0005432802482      19945           89     21E\n",
      "\n",
      "[579686 rows x 4 columns]\n",
      "\n",
      "Nuevo DataFrame copiado:\n",
      "            ticket_no  flight_id  boarding_no seat_no\n",
      "0       0005435212351      30625            1      2D\n",
      "1       0005435212386      30625            2      3G\n",
      "2       0005435212381      30625            3      4H\n",
      "3       0005432211370      30625            4      5D\n",
      "4       0005435212357      30625            5     11A\n",
      "...               ...        ...          ...     ...\n",
      "579681  0005434302871      19945           85     20F\n",
      "579682  0005432892791      19945           86     21C\n",
      "579683  0005434302869      19945           87     20E\n",
      "579684  0005432802476      19945           88     21F\n",
      "579685  0005432802482      19945           89     21E\n",
      "\n",
      "[579686 rows x 4 columns]\n"
     ]
    }
   ],
   "source": [
    "conn = sqlite3.connect(base_de_datos)\n",
    "\n",
    "# Consulta para obtener solo la tabla 'boarding_passes'\n",
    "tarjetas_de_embarque = pd.read_sql(\"\"\"\n",
    "                            SELECT *\n",
    "                            FROM boarding_passes;\n",
    "                            \"\"\", conn)\n",
    "\n",
    "# Cerrar la conexión a la base de datos\n",
    "conn.close()\n",
    "\n",
    "# Mostrar el contenido de la tabla 'boarding_passes'\n",
    "print(\"Contenido de la tabla 'boarding_passes':\")\n",
    "print(tarjetas_de_embarque)\n",
    "\n",
    "#recorrer los datos y crear un nuevo DataFrame a partir de las columnas de 'datos_de_aeropuertos'\n",
    "# Crear un DataFrame vacío\n",
    "df = pd.DataFrame()\n",
    "\n",
    "# Recorrer las columnas del DataFrame 'datos_de_aeropuertos' y añadirlas a 'df'\n",
    "for column in tarjetas_de_embarque.columns:\n",
    "    df[column] = tarjetas_de_embarque[column]\n",
    "\n",
    "# Mostrar el nuevo DataFrame\n",
    "print(\"\\nNuevo DataFrame copiado:\")\n",
    "print(df)"
   ]
  },
  {
   "cell_type": "code",
   "execution_count": 71,
   "metadata": {},
   "outputs": [
    {
     "name": "stdout",
     "output_type": "stream",
     "text": [
      "Valores nulos por columna:\n",
      "ticket_no      0\n",
      "flight_id      0\n",
      "boarding_no    0\n",
      "seat_no        0\n",
      "dtype: int64\n"
     ]
    }
   ],
   "source": [
    "# Verificar el número de valores nulos en cada columna\n",
    "valores_nulos = tarjetas_de_embarque.isnull().sum()\n",
    "print(\"Valores nulos por columna:\")\n",
    "print(valores_nulos)\n"
   ]
  },
  {
   "cell_type": "code",
   "execution_count": 67,
   "metadata": {},
   "outputs": [
    {
     "name": "stdout",
     "output_type": "stream",
     "text": [
      "\n",
      "Valores únicos por columna:\n",
      "ticket_no      238834\n",
      "flight_id       11518\n",
      "boarding_no       374\n",
      "seat_no           461\n",
      "dtype: int64\n"
     ]
    }
   ],
   "source": [
    "# Verificar el número de valores únicos en cada columna\n",
    "valores_unicos = df.nunique()\n",
    "print(\"\\nValores únicos por columna:\")\n",
    "print(valores_unicos)\n"
   ]
  },
  {
   "cell_type": "code",
   "execution_count": 72,
   "metadata": {},
   "outputs": [
    {
     "name": "stdout",
     "output_type": "stream",
     "text": [
      "El DataFrame se ha guardado correctamente en 'tarjetas_de_embarque.csv'.\n"
     ]
    }
   ],
   "source": [
    "# Guardar el DataFrame 'df' en un archivo CSV\n",
    "df.to_csv('tarjetas_de_embarque.csv', index=False)\n",
    "\n",
    "print(\"El DataFrame se ha guardado correctamente en 'tarjetas_de_embarque.csv'.\")\n"
   ]
  },
  {
   "cell_type": "markdown",
   "metadata": {},
   "source": [
    "### TABLA 4"
   ]
  },
  {
   "cell_type": "markdown",
   "metadata": {},
   "source": [
    "### bookings (reservas)"
   ]
  },
  {
   "cell_type": "code",
   "execution_count": 75,
   "metadata": {},
   "outputs": [
    {
     "name": "stdout",
     "output_type": "stream",
     "text": [
      "Contenido de la tabla 'bookings':\n",
      "       book_ref               book_date  total_amount\n",
      "0        00000F  2017-07-05 03:12:00+03        265700\n",
      "1        000012  2017-07-14 09:02:00+03         37900\n",
      "2        000068  2017-08-15 14:27:00+03         18100\n",
      "3        000181  2017-08-10 13:28:00+03        131800\n",
      "4        0002D8  2017-08-07 21:40:00+03         23600\n",
      "...         ...                     ...           ...\n",
      "262783   FFFEF3  2017-07-17 07:23:00+03         56000\n",
      "262784   FFFF2C  2017-08-08 05:55:00+03         10800\n",
      "262785   FFFF43  2017-07-20 20:42:00+03         78500\n",
      "262786   FFFFA8  2017-08-08 04:45:00+03         28800\n",
      "262787   FFFFF7  2017-07-01 22:12:00+03         73600\n",
      "\n",
      "[262788 rows x 3 columns]\n",
      "\n",
      "Nuevo DataFrame copiado:\n",
      "       book_ref               book_date  total_amount\n",
      "0        00000F  2017-07-05 03:12:00+03        265700\n",
      "1        000012  2017-07-14 09:02:00+03         37900\n",
      "2        000068  2017-08-15 14:27:00+03         18100\n",
      "3        000181  2017-08-10 13:28:00+03        131800\n",
      "4        0002D8  2017-08-07 21:40:00+03         23600\n",
      "...         ...                     ...           ...\n",
      "262783   FFFEF3  2017-07-17 07:23:00+03         56000\n",
      "262784   FFFF2C  2017-08-08 05:55:00+03         10800\n",
      "262785   FFFF43  2017-07-20 20:42:00+03         78500\n",
      "262786   FFFFA8  2017-08-08 04:45:00+03         28800\n",
      "262787   FFFFF7  2017-07-01 22:12:00+03         73600\n",
      "\n",
      "[262788 rows x 3 columns]\n"
     ]
    }
   ],
   "source": [
    "\n",
    "conn = sqlite3.connect(base_de_datos)\n",
    "\n",
    "# Consulta para obtener solo la tabla 'bookings'\n",
    "reservas = pd.read_sql(\"\"\"\n",
    "                            SELECT *\n",
    "                            FROM bookings;\n",
    "                            \"\"\", conn)\n",
    "\n",
    "# Cerrar la conexión a la base de datos\n",
    "conn.close()\n",
    "\n",
    "# Mostrar el contenido de la tabla 'bookings'\n",
    "print(\"Contenido de la tabla 'bookings':\")\n",
    "print(reservas)\n",
    "\n",
    "# Si quieres recorrer los datos y crear un nuevo DataFrame a partir de las columnas de 'datos_de_aeropuertos'\n",
    "# Crear un DataFrame vacío\n",
    "df_reservas = pd.DataFrame()\n",
    "\n",
    "# Recorrer las columnas del DataFrame 'datos_de_aeropuertos' y añadirlas a 'df'\n",
    "for column in reservas.columns:\n",
    "    df[column] = reservas[column]\n",
    "\n",
    "# Mostrar el nuevo DataFrame\n",
    "print(\"\\nNuevo DataFrame copiado:\")\n",
    "print(df)"
   ]
  },
  {
   "cell_type": "code",
   "execution_count": 77,
   "metadata": {},
   "outputs": [
    {
     "name": "stdout",
     "output_type": "stream",
     "text": [
      "Valores nulos por columna:\n",
      "book_ref        0\n",
      "book_date       0\n",
      "total_amount    0\n",
      "dtype: int64\n"
     ]
    }
   ],
   "source": [
    "# Verificar el número de valores nulos en cada columna\n",
    "valores_nulos_reservas = reservas.isnull().sum()\n",
    "print(\"Valores nulos por columna:\")\n",
    "print(valores_nulos_reservas)"
   ]
  },
  {
   "cell_type": "code",
   "execution_count": 78,
   "metadata": {},
   "outputs": [
    {
     "name": "stdout",
     "output_type": "stream",
     "text": [
      "\n",
      "Valores únicos por columna:\n",
      "book_ref        262788\n",
      "book_date        68631\n",
      "total_amount      3926\n",
      "dtype: int64\n"
     ]
    }
   ],
   "source": [
    "# Verificar el número de valores únicos en cada columna\n",
    "valores_unicos_reservas = df.nunique()\n",
    "print(\"\\nValores únicos por columna:\")\n",
    "print(valores_unicos_reservas)"
   ]
  },
  {
   "cell_type": "code",
   "execution_count": 79,
   "metadata": {},
   "outputs": [
    {
     "name": "stdout",
     "output_type": "stream",
     "text": [
      "El DataFrame se ha guardado correctamente en 'reservas.csv'.\n"
     ]
    }
   ],
   "source": [
    "# Guardar el DataFrame 'df' en un archivo CSV\n",
    "df.to_csv('reservas.csv', index=False)\n",
    "\n",
    "print(\"El DataFrame se ha guardado correctamente en 'reservas.csv'.\")"
   ]
  },
  {
   "cell_type": "markdown",
   "metadata": {},
   "source": [
    "### TABLA 5"
   ]
  },
  {
   "cell_type": "markdown",
   "metadata": {},
   "source": [
    "### flights (vuelos)"
   ]
  },
  {
   "cell_type": "code",
   "execution_count": 80,
   "metadata": {},
   "outputs": [
    {
     "name": "stdout",
     "output_type": "stream",
     "text": [
      "Contenido de la tabla 'flights':\n",
      "       flight_id flight_no     scheduled_departure       scheduled_arrival  \\\n",
      "0           1185    PG0134  2017-09-10 09:50:00+03  2017-09-10 14:55:00+03   \n",
      "1           3979    PG0052  2017-08-25 14:50:00+03  2017-08-25 17:35:00+03   \n",
      "2           4739    PG0561  2017-09-05 12:30:00+03  2017-09-05 14:15:00+03   \n",
      "3           5502    PG0529  2017-09-12 09:50:00+03  2017-09-12 11:20:00+03   \n",
      "4           6938    PG0461  2017-09-04 12:25:00+03  2017-09-04 13:20:00+03   \n",
      "...          ...       ...                     ...                     ...   \n",
      "33116      33117    PG0063  2017-08-02 19:25:00+03  2017-08-02 20:10:00+03   \n",
      "33117      33118    PG0063  2017-07-28 19:25:00+03  2017-07-28 20:10:00+03   \n",
      "33118      33119    PG0063  2017-09-08 19:25:00+03  2017-09-08 20:10:00+03   \n",
      "33119      33120    PG0063  2017-08-01 19:25:00+03  2017-08-01 20:10:00+03   \n",
      "33120      33121    PG0063  2017-08-26 19:25:00+03  2017-08-26 20:10:00+03   \n",
      "\n",
      "      departure_airport arrival_airport     status aircraft_code  \\\n",
      "0                   DME             BTK  Scheduled           319   \n",
      "1                   VKO             HMA  Scheduled           CR2   \n",
      "2                   VKO             AER  Scheduled           763   \n",
      "3                   SVO             UFA  Scheduled           763   \n",
      "4                   SVO             ULV  Scheduled           SU9   \n",
      "...                 ...             ...        ...           ...   \n",
      "33116               SKX             SVO    Arrived           CR2   \n",
      "33117               SKX             SVO    Arrived           CR2   \n",
      "33118               SKX             SVO  Scheduled           CR2   \n",
      "33119               SKX             SVO    Arrived           CR2   \n",
      "33120               SKX             SVO  Scheduled           CR2   \n",
      "\n",
      "             actual_departure          actual_arrival  \n",
      "0                          \\N                      \\N  \n",
      "1                          \\N                      \\N  \n",
      "2                          \\N                      \\N  \n",
      "3                          \\N                      \\N  \n",
      "4                          \\N                      \\N  \n",
      "...                       ...                     ...  \n",
      "33116  2017-08-02 19:25:00+03  2017-08-02 20:10:00+03  \n",
      "33117  2017-07-28 19:30:00+03  2017-07-28 20:15:00+03  \n",
      "33118                      \\N                      \\N  \n",
      "33119  2017-08-01 19:26:00+03  2017-08-01 20:12:00+03  \n",
      "33120                      \\N                      \\N  \n",
      "\n",
      "[33121 rows x 10 columns]\n",
      "\n",
      "Nuevo DataFrame copiado:\n",
      "       flight_id flight_no     scheduled_departure       scheduled_arrival  \\\n",
      "0           1185    PG0134  2017-09-10 09:50:00+03  2017-09-10 14:55:00+03   \n",
      "1           3979    PG0052  2017-08-25 14:50:00+03  2017-08-25 17:35:00+03   \n",
      "2           4739    PG0561  2017-09-05 12:30:00+03  2017-09-05 14:15:00+03   \n",
      "3           5502    PG0529  2017-09-12 09:50:00+03  2017-09-12 11:20:00+03   \n",
      "4           6938    PG0461  2017-09-04 12:25:00+03  2017-09-04 13:20:00+03   \n",
      "...          ...       ...                     ...                     ...   \n",
      "33116      33117    PG0063  2017-08-02 19:25:00+03  2017-08-02 20:10:00+03   \n",
      "33117      33118    PG0063  2017-07-28 19:25:00+03  2017-07-28 20:10:00+03   \n",
      "33118      33119    PG0063  2017-09-08 19:25:00+03  2017-09-08 20:10:00+03   \n",
      "33119      33120    PG0063  2017-08-01 19:25:00+03  2017-08-01 20:10:00+03   \n",
      "33120      33121    PG0063  2017-08-26 19:25:00+03  2017-08-26 20:10:00+03   \n",
      "\n",
      "      departure_airport arrival_airport     status aircraft_code  \\\n",
      "0                   DME             BTK  Scheduled           319   \n",
      "1                   VKO             HMA  Scheduled           CR2   \n",
      "2                   VKO             AER  Scheduled           763   \n",
      "3                   SVO             UFA  Scheduled           763   \n",
      "4                   SVO             ULV  Scheduled           SU9   \n",
      "...                 ...             ...        ...           ...   \n",
      "33116               SKX             SVO    Arrived           CR2   \n",
      "33117               SKX             SVO    Arrived           CR2   \n",
      "33118               SKX             SVO  Scheduled           CR2   \n",
      "33119               SKX             SVO    Arrived           CR2   \n",
      "33120               SKX             SVO  Scheduled           CR2   \n",
      "\n",
      "             actual_departure          actual_arrival  \n",
      "0                          \\N                      \\N  \n",
      "1                          \\N                      \\N  \n",
      "2                          \\N                      \\N  \n",
      "3                          \\N                      \\N  \n",
      "4                          \\N                      \\N  \n",
      "...                       ...                     ...  \n",
      "33116  2017-08-02 19:25:00+03  2017-08-02 20:10:00+03  \n",
      "33117  2017-07-28 19:30:00+03  2017-07-28 20:15:00+03  \n",
      "33118                      \\N                      \\N  \n",
      "33119  2017-08-01 19:26:00+03  2017-08-01 20:12:00+03  \n",
      "33120                      \\N                      \\N  \n",
      "\n",
      "[33121 rows x 10 columns]\n"
     ]
    }
   ],
   "source": [
    "\n",
    "conn = sqlite3.connect(base_de_datos)\n",
    "\n",
    "# Consulta para obtener solo la tabla 'flights'\n",
    "vuelos = pd.read_sql(\"\"\"\n",
    "                            SELECT *\n",
    "                            FROM flights;\n",
    "                            \"\"\", conn)\n",
    "\n",
    "# Cerrar la conexión a la base de datos\n",
    "conn.close()\n",
    "\n",
    "# Mostrar el contenido de la tabla 'flights'\n",
    "print(\"Contenido de la tabla 'flights':\")\n",
    "print(vuelos)\n",
    "\n",
    "# Si quieres recorrer los datos y crear un nuevo DataFrame a partir de las columnas de 'datos_de_aeropuertos'\n",
    "# Crear un DataFrame vacío\n",
    "df = pd.DataFrame()\n",
    "\n",
    "# Recorrer las columnas del DataFrame 'datos_de_aeropuertos' y añadirlas a 'df'\n",
    "for column in vuelos.columns:\n",
    "    df[column] = vuelos[column]\n",
    "\n",
    "# Mostrar el nuevo DataFrame\n",
    "print(\"\\nNuevo DataFrame copiado:\")\n",
    "print(df)"
   ]
  },
  {
   "cell_type": "code",
   "execution_count": 82,
   "metadata": {},
   "outputs": [
    {
     "name": "stdout",
     "output_type": "stream",
     "text": [
      "Valores nulos por columna:\n",
      "flight_id              0\n",
      "flight_no              0\n",
      "scheduled_departure    0\n",
      "scheduled_arrival      0\n",
      "departure_airport      0\n",
      "arrival_airport        0\n",
      "status                 0\n",
      "aircraft_code          0\n",
      "actual_departure       0\n",
      "actual_arrival         0\n",
      "dtype: int64\n"
     ]
    }
   ],
   "source": [
    "# Verificar el número de valores nulos en cada columna\n",
    "valores_nulos_vuelos = vuelos.isnull().sum()\n",
    "print(\"Valores nulos por columna:\")\n",
    "print(valores_nulos_vuelos)"
   ]
  },
  {
   "cell_type": "code",
   "execution_count": 83,
   "metadata": {},
   "outputs": [
    {
     "name": "stdout",
     "output_type": "stream",
     "text": [
      "\n",
      "Valores únicos por columna:\n",
      "flight_id              33121\n",
      "flight_no                710\n",
      "scheduled_departure    10365\n",
      "scheduled_arrival       9648\n",
      "departure_airport        104\n",
      "arrival_airport          104\n",
      "status                     6\n",
      "aircraft_code              8\n",
      "actual_departure       12108\n",
      "actual_arrival         11851\n",
      "dtype: int64\n"
     ]
    }
   ],
   "source": [
    "# Verificar el número de valores únicos en cada columna\n",
    "valores_unicos_vuelos = df.nunique()\n",
    "print(\"\\nValores únicos por columna:\")\n",
    "print(valores_unicos_vuelos)"
   ]
  },
  {
   "cell_type": "code",
   "execution_count": 84,
   "metadata": {},
   "outputs": [
    {
     "name": "stdout",
     "output_type": "stream",
     "text": [
      "El DataFrame se ha guardado correctamente en 'vuelos.csv'.\n"
     ]
    }
   ],
   "source": [
    "# Guardar el DataFrame 'df' en un archivo CSV\n",
    "df.to_csv('vuelos.csv', index=False)\n",
    "\n",
    "print(\"El DataFrame se ha guardado correctamente en 'vuelos.csv'.\")"
   ]
  },
  {
   "cell_type": "markdown",
   "metadata": {},
   "source": [
    "### TABLA 6"
   ]
  },
  {
   "cell_type": "markdown",
   "metadata": {},
   "source": [
    "### Seats (Asientos)"
   ]
  },
  {
   "cell_type": "code",
   "execution_count": 85,
   "metadata": {},
   "outputs": [
    {
     "name": "stdout",
     "output_type": "stream",
     "text": [
      "Contenido de la tabla 'seats':\n",
      "       book_ref               book_date  total_amount\n",
      "0        00000F  2017-07-05 03:12:00+03        265700\n",
      "1        000012  2017-07-14 09:02:00+03         37900\n",
      "2        000068  2017-08-15 14:27:00+03         18100\n",
      "3        000181  2017-08-10 13:28:00+03        131800\n",
      "4        0002D8  2017-08-07 21:40:00+03         23600\n",
      "...         ...                     ...           ...\n",
      "262783   FFFEF3  2017-07-17 07:23:00+03         56000\n",
      "262784   FFFF2C  2017-08-08 05:55:00+03         10800\n",
      "262785   FFFF43  2017-07-20 20:42:00+03         78500\n",
      "262786   FFFFA8  2017-08-08 04:45:00+03         28800\n",
      "262787   FFFFF7  2017-07-01 22:12:00+03         73600\n",
      "\n",
      "[262788 rows x 3 columns]\n",
      "\n",
      "Nuevo DataFrame copiado:\n",
      "     aircraft_code seat_no fare_conditions\n",
      "0              319      2A        Business\n",
      "1              319      2C        Business\n",
      "2              319      2D        Business\n",
      "3              319      2F        Business\n",
      "4              319      3A        Business\n",
      "...            ...     ...             ...\n",
      "1334           773     48H         Economy\n",
      "1335           773     48K         Economy\n",
      "1336           773     49A         Economy\n",
      "1337           773     49C         Economy\n",
      "1338           773     49D         Economy\n",
      "\n",
      "[1339 rows x 3 columns]\n"
     ]
    }
   ],
   "source": [
    "\n",
    "conn = sqlite3.connect(base_de_datos)\n",
    "\n",
    "# Consulta para obtener solo la tabla 'seats'\n",
    "asientos = pd.read_sql(\"\"\"\n",
    "                            SELECT *\n",
    "                            FROM seats;\n",
    "                            \"\"\", conn)\n",
    "\n",
    "# Cerrar la conexión a la base de datos\n",
    "conn.close()\n",
    "\n",
    "# Mostrar el contenido de la tabla 'seats'\n",
    "print(\"Contenido de la tabla 'seats':\")\n",
    "print(datos_de_aeropuertos)\n",
    "\n",
    "# Si quieres recorrer los datos y crear un nuevo DataFrame a partir de las columnas de 'datos_de_aeropuertos'\n",
    "# Crear un DataFrame vacío\n",
    "df = pd.DataFrame()\n",
    "\n",
    "# Recorrer las columnas del DataFrame 'datos_de_aeropuertos' y añadirlas a 'df'\n",
    "for column in asientos.columns:\n",
    "    df[column] = asientos[column]\n",
    "\n",
    "# Mostrar el nuevo DataFrame\n",
    "print(\"\\nNuevo DataFrame copiado:\")\n",
    "print(df)"
   ]
  },
  {
   "cell_type": "code",
   "execution_count": 86,
   "metadata": {},
   "outputs": [
    {
     "name": "stdout",
     "output_type": "stream",
     "text": [
      "Valores nulos por columna:\n",
      "aircraft_code      0\n",
      "seat_no            0\n",
      "fare_conditions    0\n",
      "dtype: int64\n"
     ]
    }
   ],
   "source": [
    "# Verificar el número de valores nulos en cada columna\n",
    "valores_nulos_asientos = asientos.isnull().sum()\n",
    "print(\"Valores nulos por columna:\")\n",
    "print(valores_nulos_asientos)"
   ]
  },
  {
   "cell_type": "code",
   "execution_count": 87,
   "metadata": {},
   "outputs": [
    {
     "name": "stdout",
     "output_type": "stream",
     "text": [
      "\n",
      "Valores únicos por columna:\n",
      "aircraft_code        9\n",
      "seat_no            461\n",
      "fare_conditions      3\n",
      "dtype: int64\n"
     ]
    }
   ],
   "source": [
    "# Verificar el número de valores únicos en cada columna\n",
    "valores_unicos_asientos = asientos.nunique()\n",
    "print(\"\\nValores únicos por columna:\")\n",
    "print(valores_unicos_asientos)"
   ]
  },
  {
   "cell_type": "code",
   "execution_count": 88,
   "metadata": {},
   "outputs": [
    {
     "name": "stdout",
     "output_type": "stream",
     "text": [
      "El DataFrame se ha guardado correctamente en 'asientos.csv'.\n"
     ]
    }
   ],
   "source": [
    "# Guardar el DataFrame 'df' en un archivo CSV\n",
    "df.to_csv('asientos.csv', index=False)\n",
    "\n",
    "print(\"El DataFrame se ha guardado correctamente en 'asientos.csv'.\")"
   ]
  },
  {
   "cell_type": "markdown",
   "metadata": {},
   "source": [
    "### TABLA 7"
   ]
  },
  {
   "cell_type": "markdown",
   "metadata": {},
   "source": [
    "### ticket_flights (boletos_de_Avion)"
   ]
  },
  {
   "cell_type": "code",
   "execution_count": 98,
   "metadata": {},
   "outputs": [
    {
     "name": "stdout",
     "output_type": "stream",
     "text": [
      "Contenido de la tabla 'ticket_flights':\n",
      "       book_ref               book_date  total_amount\n",
      "0        00000F  2017-07-05 03:12:00+03        265700\n",
      "1        000012  2017-07-14 09:02:00+03         37900\n",
      "2        000068  2017-08-15 14:27:00+03         18100\n",
      "3        000181  2017-08-10 13:28:00+03        131800\n",
      "4        0002D8  2017-08-07 21:40:00+03         23600\n",
      "...         ...                     ...           ...\n",
      "262783   FFFEF3  2017-07-17 07:23:00+03         56000\n",
      "262784   FFFF2C  2017-08-08 05:55:00+03         10800\n",
      "262785   FFFF43  2017-07-20 20:42:00+03         78500\n",
      "262786   FFFFA8  2017-08-08 04:45:00+03         28800\n",
      "262787   FFFFF7  2017-07-01 22:12:00+03         73600\n",
      "\n",
      "[262788 rows x 3 columns]\n",
      "\n",
      "Nuevo DataFrame copiado:\n",
      "             ticket_no  flight_id fare_conditions  amount\n",
      "0        0005432159776      30625        Business   42100\n",
      "1        0005435212351      30625        Business   42100\n",
      "2        0005435212386      30625        Business   42100\n",
      "3        0005435212381      30625        Business   42100\n",
      "4        0005432211370      30625        Business   42100\n",
      "...                ...        ...             ...     ...\n",
      "1045721  0005435097522      32094         Economy    5200\n",
      "1045722  0005435097521      32094         Economy    5200\n",
      "1045723  0005435104384      32094         Economy    5200\n",
      "1045724  0005435104352      32094         Economy    5200\n",
      "1045725  0005435104389      32094         Economy    5200\n",
      "\n",
      "[1045726 rows x 4 columns]\n"
     ]
    }
   ],
   "source": [
    "\n",
    "conn = sqlite3.connect(base_de_datos)\n",
    "\n",
    "# Consulta para obtener solo la tabla 'ticket_flights'\n",
    "boletos_de_avion = pd.read_sql(\"\"\"\n",
    "                            SELECT *\n",
    "                            FROM ticket_flights;\n",
    "                            \"\"\", conn)\n",
    "\n",
    "# Cerrar la conexión a la base de datos\n",
    "conn.close()\n",
    "\n",
    "# Mostrar el contenido de la tabla 'seats'\n",
    "print(\"Contenido de la tabla 'ticket_flights':\")\n",
    "print(datos_de_aeropuertos)\n",
    "\n",
    "# Si quieres recorrer los datos y crear un nuevo DataFrame a partir de las columnas de 'datos_de_aeropuertos'\n",
    "# Crear un DataFrame vacío\n",
    "df = pd.DataFrame()\n",
    "\n",
    "# Recorrer las columnas del DataFrame 'datos_de_aeropuertos' y añadirlas a 'df'\n",
    "for column in boletos_de_avion.columns:\n",
    "    df[column] = boletos_de_avion[column]\n",
    "\n",
    "# Mostrar el nuevo DataFrame\n",
    "print(\"\\nNuevo DataFrame copiado:\")\n",
    "print(df)\n"
   ]
  },
  {
   "cell_type": "code",
   "execution_count": 103,
   "metadata": {},
   "outputs": [
    {
     "name": "stdout",
     "output_type": "stream",
     "text": [
      "\n",
      "Resumen general:\n",
      "                 Valores Nulos  Valores Únicos  Total de Registros\n",
      "ticket_no                    0          366733             1045726\n",
      "flight_id                    0           22226             1045726\n",
      "fare_conditions              0               3             1045726\n",
      "amount                       0             338             1045726\n"
     ]
    }
   ],
   "source": [
    "# Resumen general de valores nulos y únicos por columna\n",
    "resumen = pd.DataFrame({\n",
    "    'Valores Nulos': df.isnull().sum(),\n",
    "    'Valores Únicos': df.nunique(),\n",
    "    'Total de Registros': len(df)\n",
    "})\n",
    "\n",
    "print(\"\\nResumen general:\")\n",
    "print(resumen)\n"
   ]
  },
  {
   "cell_type": "code",
   "execution_count": 104,
   "metadata": {},
   "outputs": [
    {
     "name": "stdout",
     "output_type": "stream",
     "text": [
      "El DataFrame se ha guardado correctamente en 'boletos_de_avion.csv'.\n"
     ]
    }
   ],
   "source": [
    "# Guardar el DataFrame 'df' en un archivo CSV\n",
    "df.to_csv('boletos_de_avion.csv', index=False)\n",
    "\n",
    "print(\"El DataFrame se ha guardado correctamente en 'boletos_de_avion.csv'.\")"
   ]
  },
  {
   "cell_type": "markdown",
   "metadata": {},
   "source": [
    "### TABLA 8"
   ]
  },
  {
   "cell_type": "markdown",
   "metadata": {},
   "source": [
    "### Tickets (Boletos)"
   ]
  },
  {
   "cell_type": "code",
   "execution_count": 114,
   "metadata": {},
   "outputs": [
    {
     "name": "stdout",
     "output_type": "stream",
     "text": [
      "Contenido de la tabla 'tickets':\n",
      "       ticket_no book_ref passenger_id\n",
      "0  0005432000987   06B046  8149 604011\n",
      "1  0005432000988   06B046  8499 420203\n",
      "2  0005432000989   E170C3  1011 752484\n",
      "3  0005432000990   E170C3  4849 400049\n",
      "4  0005432000991   F313DD  6615 976589\n",
      "\n",
      "El DataFrame se ha guardado correctamente en 'boletos_tickets.csv'.\n"
     ]
    }
   ],
   "source": [
    "# Conectar a la base de datos\n",
    "conn = sqlite3.connect(base_de_datos)\n",
    "\n",
    "# Consulta para obtener la tabla 'tickets'\n",
    "boletos = pd.read_sql(\"\"\"\n",
    "                            SELECT *\n",
    "                            FROM tickets;\n",
    "                            \"\"\", conn)\n",
    "\n",
    "# Cerrar la conexión a la base de datos\n",
    "conn.close()\n",
    "\n",
    "# Mostrar el contenido de la tabla 'tickets'\n",
    "print(\"Contenido de la tabla 'tickets':\")\n",
    "print(boletos.head())  # Mostrar las primeras filas para verificar los datos\n",
    "\n",
    "# Aquí el DataFrame 'boletos' ya está completo, no es necesario crear otro DataFrame vacío\n",
    "\n",
    "# Guardar el DataFrame 'boletos' en un archivo CSV (si es necesario)\n",
    "boletos.to_csv('boletos_tickets.csv', index=False)\n",
    "\n",
    "print(\"\\nEl DataFrame se ha guardado correctamente en 'boletos_tickets.csv'.\")\n"
   ]
  },
  {
   "cell_type": "code",
   "execution_count": 115,
   "metadata": {},
   "outputs": [
    {
     "name": "stdout",
     "output_type": "stream",
     "text": [
      "\n",
      "Resumen general:\n",
      "              Valores Nulos  Valores Únicos  Total de Registros\n",
      "ticket_no                 0          366733              366733\n",
      "book_ref                  0          262788              366733\n",
      "passenger_id              0          366733              366733\n"
     ]
    }
   ],
   "source": [
    "# Resumen general de valores nulos y únicos por columna\n",
    "conteo = pd.DataFrame({\n",
    "    'Valores Nulos': boletos.isnull().sum(),\n",
    "    'Valores Únicos': boletos.nunique(),\n",
    "    'Total de Registros': len(boletos)\n",
    "})\n",
    "\n",
    "print(\"\\nResumen general:\")\n",
    "print(conteo)"
   ]
  },
  {
   "cell_type": "code",
   "execution_count": 1,
   "metadata": {},
   "outputs": [],
   "source": [
    "import pandas as pd "
   ]
  },
  {
   "cell_type": "code",
   "execution_count": 6,
   "metadata": {},
   "outputs": [
    {
     "name": "stdout",
     "output_type": "stream",
     "text": [
      "Número de fechas no válidas en 'scheduled_departure': 0\n",
      "Número de fechas no válidas en 'scheduled_arrival': 0\n",
      "Número de fechas no válidas en 'actual_departure': 0\n",
      "Número de fechas no válidas en 'actual_arrival': 0\n",
      "El DataFrame se ha guardado correctamente en 'flights.csv'.\n"
     ]
    }
   ],
   "source": [
    "# Cargar el archivo CSV\n",
    "df_flights = pd.read_csv(r\"C:\\\\users\\\\usuario\\\\Desktop\\\\FFFF\\\\proyecto_final_henry\\\\data\\\\flights.csv\")\n",
    "\n",
    "# Convertir las columnas de fecha y hora al formato datetime\n",
    "df_flights['scheduled_departure'] = pd.to_datetime(df_flights['scheduled_departure'], errors='coerce')\n",
    "df_flights['scheduled_arrival'] = pd.to_datetime(df_flights['scheduled_arrival'], errors='coerce')\n",
    "df_flights['actual_departure'] = pd.to_datetime(df_flights['actual_departure'], errors='coerce')\n",
    "df_flights['actual_arrival'] = pd.to_datetime(df_flights['actual_arrival'], errors='coerce')\n",
    "\n",
    "# Verificar si hay fechas no válidas\n",
    "invalid_departure_scheduled = df_flights['scheduled_departure'].isna().sum()\n",
    "invalid_arrival_scheduled = df_flights['scheduled_arrival'].isna().sum()\n",
    "invalid_departure_actual = df_flights['actual_departure'].isna().sum()\n",
    "invalid_arrival_actual = df_flights['actual_arrival'].isna().sum()\n",
    "\n",
    "print(f\"Número de fechas no válidas en 'scheduled_departure': {invalid_departure_scheduled}\")\n",
    "print(f\"Número de fechas no válidas en 'scheduled_arrival': {invalid_arrival_scheduled}\")\n",
    "print(f\"Número de fechas no válidas en 'actual_departure': {invalid_departure_actual}\")\n",
    "print(f\"Número de fechas no válidas en 'actual_arrival': {invalid_arrival_actual}\")\n",
    "\n",
    "# Formatear las fechas y horas sin la zona horaria\n",
    "df_flights['scheduled_departure'] = df_flights['scheduled_departure'].dt.strftime('%Y-%m-%d %H:%M:%S')\n",
    "df_flights['scheduled_arrival'] = df_flights['scheduled_arrival'].dt.strftime('%Y-%m-%d %H:%M:%S')\n",
    "df_flights['actual_departure'] = df_flights['actual_departure'].dt.strftime('%Y-%m-%d %H:%M:%S')\n",
    "df_flights['actual_arrival'] = df_flights['actual_arrival'].dt.strftime('%Y-%m-%d %H:%M:%S')\n",
    "\n",
    "# Guardar el DataFrame en un archivo CSV\n",
    "df_flights.to_csv('flights.csv', index=False)\n",
    "\n",
    "print(\"El DataFrame se ha guardado correctamente en 'flights.csv'.\")"
   ]
  },
  {
   "cell_type": "code",
   "execution_count": null,
   "metadata": {},
   "outputs": [],
   "source": []
  }
 ],
 "metadata": {
  "kernelspec": {
   "display_name": "Python 3",
   "language": "python",
   "name": "python3"
  },
  "language_info": {
   "codemirror_mode": {
    "name": "ipython",
    "version": 3
   },
   "file_extension": ".py",
   "mimetype": "text/x-python",
   "name": "python",
   "nbconvert_exporter": "python",
   "pygments_lexer": "ipython3",
   "version": "3.12.-1"
  }
 },
 "nbformat": 4,
 "nbformat_minor": 2
}
